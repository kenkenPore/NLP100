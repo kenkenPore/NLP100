{
 "cells": [
  {
   "cell_type": "markdown",
   "metadata": {},
   "source": [
    "# 第2章: UNIXコマンドの基礎"
   ]
  },
  {
   "cell_type": "markdown",
   "metadata": {},
   "source": [
    "## 10. 行数のカウント"
   ]
  },
  {
   "cell_type": "code",
   "execution_count": 2,
   "metadata": {
    "collapsed": false
   },
   "outputs": [
    {
     "name": "stdout",
     "output_type": "stream",
     "text": [
      "24\n",
      "validate result by shell commands.\n",
      "      24\n"
     ]
    }
   ],
   "source": [
    "with open('hightemp.txt','r') as f:\n",
    "    print(len(f.readlines()))\n",
    "    \n",
    "## validate result by shell commands.\n",
    "!echo 'validate result by shell commands.'\n",
    "!cat hightemp.txt | wc -l"
   ]
  },
  {
   "cell_type": "markdown",
   "metadata": {},
   "source": [
    "## 11. タブをスペースに置換"
   ]
  },
  {
   "cell_type": "code",
   "execution_count": 3,
   "metadata": {
    "collapsed": false
   },
   "outputs": [
    {
     "name": "stdout",
     "output_type": "stream",
     "text": [
      "高知県 江川崎 41 2013-08-12\n",
      "埼玉県 熊谷 40.9 2007-08-16\n",
      "岐阜県 多治見 40.9 2007-08-16\n",
      "山形県 山形 40.8 1933-07-25\n",
      "山梨県 甲府 40.7 2013-08-10\n",
      "和歌山県 かつらぎ 40.6 1994-08-08\n",
      "静岡県 天竜 40.6 1994-08-04\n",
      "山梨県 勝沼 40.5 2013-08-10\n",
      "埼玉県 越谷 40.4 2007-08-16\n",
      "群馬県 館林 40.3 2007-08-16\n",
      "群馬県 上里見 40.3 1998-07-04\n",
      "愛知県 愛西 40.3 1994-08-05\n",
      "千葉県 牛久 40.2 2004-07-20\n",
      "静岡県 佐久間 40.2 2001-07-24\n",
      "愛媛県 宇和島 40.2 1927-07-22\n",
      "山形県 酒田 40.1 1978-08-03\n",
      "岐阜県 美濃 40 2007-08-16\n",
      "群馬県 前橋 40 2001-07-24\n",
      "千葉県 茂原 39.9 2013-08-11\n",
      "埼玉県 鳩山 39.9 1997-07-05\n",
      "大阪府 豊中 39.9 1994-08-08\n",
      "山梨県 大月 39.9 1990-07-19\n",
      "山形県 鶴岡 39.9 1978-08-03\n",
      "愛知県 名古屋 39.9 1942-08-02\n",
      "\n",
      "validate result by shell commands.\n",
      "\n",
      "高知県\t江川崎\t41\t2013-08-12\n",
      "埼玉県\t熊谷\t40.9\t2007-08-16\n",
      "岐阜県\t多治見\t40.9\t2007-08-16\n",
      "山形県\t山形\t40.8\t1933-07-25\n",
      "山梨県\t甲府\t40.7\t2013-08-10\n",
      "和歌山県\tかつらぎ\t40.6\t1994-08-08\n",
      "静岡県\t天竜\t40.6\t1994-08-04\n",
      "山梨県\t勝沼\t40.5\t2013-08-10\n",
      "埼玉県\t越谷\t40.4\t2007-08-16\n",
      "群馬県\t館林\t40.3\t2007-08-16\n",
      "群馬県\t上里見\t40.3\t1998-07-04\n",
      "愛知県\t愛西\t40.3\t1994-08-05\n",
      "千葉県\t牛久\t40.2\t2004-07-20\n",
      "静岡県\t佐久間\t40.2\t2001-07-24\n",
      "愛媛県\t宇和島\t40.2\t1927-07-22\n",
      "山形県\t酒田\t40.1\t1978-08-03\n",
      "岐阜県\t美濃\t40\t2007-08-16\n",
      "群馬県\t前橋\t40\t2001-07-24\n",
      "千葉県\t茂原\t39.9\t2013-08-11\n",
      "埼玉県\t鳩山\t39.9\t1997-07-05\n",
      "大阪府\t豊中\t39.9\t1994-08-08\n",
      "山梨県\t大月\t39.9\t1990-07-19\n",
      "山形県\t鶴岡\t39.9\t1978-08-03\n",
      "愛知県\t名古屋\t39.9\t1942-08-02\n",
      "高知県\t江川崎\t41\t2013-08-12\n",
      "埼玉県\t熊谷\t40.9\t2007-08-16\n",
      "岐阜県\t多治見\t40.9\t2007-08-16\n",
      "山形県\t山形\t40.8\t1933-07-25\n",
      "山梨県\t甲府\t40.7\t2013-08-10\n",
      "和歌山県\tかつらぎ\t40.6\t1994-08-08\n",
      "静岡県\t天竜\t40.6\t1994-08-04\n",
      "山梨県\t勝沼\t40.5\t2013-08-10\n",
      "埼玉県\t越谷\t40.4\t2007-08-16\n",
      "群馬県\t館林\t40.3\t2007-08-16\n",
      "群馬県\t上里見\t40.3\t1998-07-04\n",
      "愛知県\t愛西\t40.3\t1994-08-05\n",
      "千葉県\t牛久\t40.2\t2004-07-20\n",
      "静岡県\t佐久間\t40.2\t2001-07-24\n",
      "愛媛県\t宇和島\t40.2\t1927-07-22\n",
      "山形県\t酒田\t40.1\t1978-08-03\n",
      "岐阜県\t美濃\t40\t2007-08-16\n",
      "群馬県\t前橋\t40\t2001-07-24\n",
      "千葉県\t茂原\t39.9\t2013-08-11\n",
      "埼玉県\t鳩山\t39.9\t1997-07-05\n",
      "大阪府\t豊中\t39.9\t1994-08-08\n",
      "山梨県\t大月\t39.9\t1990-07-19\n",
      "山形県\t鶴岡\t39.9\t1978-08-03\n",
      "愛知県\t名古屋\t39.9\t1942-08-02\n",
      "高知県  江川崎  41      2013-08-12\n",
      "埼玉県  熊谷    40.9    2007-08-16\n",
      "岐阜県  多治見  40.9    2007-08-16\n",
      "山形県  山形    40.8    1933-07-25\n",
      "山梨県  甲府    40.7    2013-08-10\n",
      "和歌山県        かつらぎ        40.6    1994-08-08\n",
      "静岡県  天竜    40.6    1994-08-04\n",
      "山梨県  勝沼    40.5    2013-08-10\n",
      "埼玉県  越谷    40.4    2007-08-16\n",
      "群馬県  館林    40.3    2007-08-16\n",
      "群馬県  上里見  40.3    1998-07-04\n",
      "愛知県  愛西    40.3    1994-08-05\n",
      "千葉県  牛久    40.2    2004-07-20\n",
      "静岡県  佐久間  40.2    2001-07-24\n",
      "愛媛県  宇和島  40.2    1927-07-22\n",
      "山形県  酒田    40.1    1978-08-03\n",
      "岐阜県  美濃    40      2007-08-16\n",
      "群馬県  前橋    40      2001-07-24\n",
      "千葉県  茂原    39.9    2013-08-11\n",
      "埼玉県  鳩山    39.9    1997-07-05\n",
      "大阪府  豊中    39.9    1994-08-08\n",
      "山梨県  大月    39.9    1990-07-19\n",
      "山形県  鶴岡    39.9    1978-08-03\n",
      "愛知県  名古屋  39.9    1942-08-02\n"
     ]
    }
   ],
   "source": [
    "with open('hightemp.txt', 'r') as f:\n",
    "    doc = f.read()\n",
    "    res = doc.replace('\\t',' ')\n",
    "    \n",
    "print(res)\n",
    "\n",
    "\n",
    "## validate result by shell commdans.\n",
    "!echo 'validate result by shell commands.'\n",
    "!echo ''\n",
    "!cat hightemp.txt | sed -e 's/<tab>/<space>/g'\n",
    "!cat hightemp.txt | tr '<tab>' '<space>'\n",
    "!cat hightemp.txt | expand"
   ]
  },
  {
   "cell_type": "markdown",
   "metadata": {},
   "source": [
    "## 12. 1列目をcol1.txtに，2列目をcol2.txtに保存"
   ]
  },
  {
   "cell_type": "code",
   "execution_count": 4,
   "metadata": {
    "collapsed": false
   },
   "outputs": [
    {
     "name": "stdout",
     "output_type": "stream",
     "text": [
      "validate result by shell commands.\n",
      "col1\n",
      "高知県\n",
      "埼玉県\n",
      "岐阜県\n",
      "山形県\n",
      "山梨県\n",
      "和歌山県\n",
      "静岡県\n",
      "山梨県\n",
      "埼玉県\n",
      "群馬県\n",
      "群馬県\n",
      "愛知県\n",
      "千葉県\n",
      "静岡県\n",
      "愛媛県\n",
      "山形県\n",
      "岐阜県\n",
      "群馬県\n",
      "千葉県\n",
      "埼玉県\n",
      "大阪府\n",
      "山梨県\n",
      "山形県\n",
      "愛知県\n",
      "\n",
      "col2\n",
      "江川崎\n",
      "熊谷\n",
      "多治見\n",
      "山形\n",
      "甲府\n",
      "かつらぎ\n",
      "天竜\n",
      "勝沼\n",
      "越谷\n",
      "館林\n",
      "上里見\n",
      "愛西\n",
      "牛久\n",
      "佐久間\n",
      "宇和島\n",
      "酒田\n",
      "美濃\n",
      "前橋\n",
      "茂原\n",
      "鳩山\n",
      "豊中\n",
      "大月\n",
      "鶴岡\n",
      "名古屋\n"
     ]
    }
   ],
   "source": [
    "with open('hightemp.txt', 'r') as f:\n",
    "    lines = f.readlines()\n",
    "    \n",
    "    col1 = []\n",
    "    col2 = []\n",
    "    \n",
    "    for line in lines:\n",
    "        cols = line.split('\\t')\n",
    "        col1.append(cols[0])\n",
    "        col2.append(cols[1])\n",
    "    with open('col1.txt', 'w') as f:\n",
    "        f.write('\\n'.join(col1))\n",
    "    with open('col2.txt', 'w') as f:\n",
    "        f.write('\\n'.join(col2))\n",
    "        \n",
    "# validate result by shell commands.\n",
    "!echo 'validate result by shell commands.'\n",
    "\n",
    "!echo 'col1'\n",
    "! cat hightemp.txt | cut -f1\n",
    "!echo ''\n",
    "!echo 'col2'\n",
    "! cat hightemp.txt | cut -f2"
   ]
  },
  {
   "cell_type": "markdown",
   "metadata": {},
   "source": [
    "## 13. col1.txtとcol2.txtをマージ"
   ]
  },
  {
   "cell_type": "code",
   "execution_count": 5,
   "metadata": {
    "collapsed": false
   },
   "outputs": [
    {
     "name": "stdout",
     "output_type": "stream",
     "text": [
      "高知県\t江川崎\n",
      "埼玉県\t熊谷\n",
      "岐阜県\t多治見\n",
      "山形県\t山形\n",
      "山梨県\t甲府\n",
      "和歌山県\tかつらぎ\n",
      "静岡県\t天竜\n",
      "山梨県\t勝沼\n",
      "埼玉県\t越谷\n",
      "群馬県\t館林\n",
      "群馬県\t上里見\n",
      "愛知県\t愛西\n",
      "千葉県\t牛久\n",
      "静岡県\t佐久間\n",
      "愛媛県\t宇和島\n",
      "山形県\t酒田\n",
      "岐阜県\t美濃\n",
      "群馬県\t前橋\n",
      "千葉県\t茂原\n",
      "埼玉県\t鳩山\n",
      "大阪府\t豊中\n",
      "山梨県\t大月\n",
      "山形県\t鶴岡\n",
      "愛知県\t名古屋\n",
      "\n",
      "validate result by shell commands\n",
      "\n",
      "高知県\t江川崎\n",
      "埼玉県\t熊谷\n",
      "岐阜県\t多治見\n",
      "山形県\t山形\n",
      "山梨県\t甲府\n",
      "和歌山県\tかつらぎ\n",
      "静岡県\t天竜\n",
      "山梨県\t勝沼\n",
      "埼玉県\t越谷\n",
      "群馬県\t館林\n",
      "群馬県\t上里見\n",
      "愛知県\t愛西\n",
      "千葉県\t牛久\n",
      "静岡県\t佐久間\n",
      "愛媛県\t宇和島\n",
      "山形県\t酒田\n",
      "岐阜県\t美濃\n",
      "群馬県\t前橋\n",
      "千葉県\t茂原\n",
      "埼玉県\t鳩山\n",
      "大阪府\t豊中\n",
      "山梨県\t大月\n",
      "山形県\t鶴岡\n",
      "愛知県\t名古屋\n"
     ]
    }
   ],
   "source": [
    "with open('col1.txt', 'r') as f:\n",
    "    col1 = [line.rstrip() for line in f.readlines()]\n",
    "\n",
    "with open('col2.txt', 'r') as f:\n",
    "    col2 = [line.rstrip() for line in f.readlines()]\n",
    "    \n",
    "\n",
    "res = '\\n'.join(c1 + '\\t' + c2 for c1, c2 in zip(col1, col2))\n",
    "\n",
    "print(res)\n",
    "\n",
    "\n",
    "# validate result by shell commands\n",
    "!echo ''\n",
    "!echo 'validate result by shell commands'\n",
    "!echo ''\n",
    "! paste col1.txt col2.txt"
   ]
  },
  {
   "cell_type": "markdown",
   "metadata": {},
   "source": [
    "## 14. 先頭からN行を出力"
   ]
  },
  {
   "cell_type": "code",
   "execution_count": 11,
   "metadata": {
    "collapsed": false
   },
   "outputs": [
    {
     "name": "stdout",
     "output_type": "stream",
     "text": [
      "高知県\t江川崎\t41\t2013-08-12\n",
      "埼玉県\t熊谷\t40.9\t2007-08-16\n",
      "岐阜県\t多治見\t40.9\t2007-08-16\n",
      "山形県\t山形\t40.8\t1933-07-25\n",
      "山梨県\t甲府\t40.7\t2013-08-10\n",
      "和歌山県\tかつらぎ\t40.6\t1994-08-08\n",
      "静岡県\t天竜\t40.6\t1994-08-04\n",
      "山梨県\t勝沼\t40.5\t2013-08-10\n",
      "埼玉県\t越谷\t40.4\t2007-08-16\n",
      "群馬県\t館林\t40.3\t2007-08-16\n",
      "\n",
      "validate result by shell commands\n",
      "\n",
      "高知県\t江川崎\t41\t2013-08-12\n",
      "埼玉県\t熊谷\t40.9\t2007-08-16\n",
      "岐阜県\t多治見\t40.9\t2007-08-16\n",
      "山形県\t山形\t40.8\t1933-07-25\n",
      "山梨県\t甲府\t40.7\t2013-08-10\n",
      "和歌山県\tかつらぎ\t40.6\t1994-08-08\n",
      "静岡県\t天竜\t40.6\t1994-08-04\n",
      "山梨県\t勝沼\t40.5\t2013-08-10\n",
      "埼玉県\t越谷\t40.4\t2007-08-16\n",
      "群馬県\t館林\t40.3\t2007-08-16\n"
     ]
    }
   ],
   "source": [
    "import sys\n",
    "\n",
    "n = 10\n",
    "\n",
    "def head(n):\n",
    "    with open('hightemp.txt', 'r') as f:\n",
    "        lines = f.readlines()[:n]\n",
    "        res = '\\n'.join([line.rstrip() for line in lines])\n",
    "    \n",
    "    return res\n",
    "\n",
    "print(head(n))\n",
    "\n",
    "# validate result by shell commands.\n",
    "!echo ''\n",
    "!echo 'validate result by shell commands'\n",
    "!echo ''\n",
    "!head -10 hightemp.txt"
   ]
  },
  {
   "cell_type": "markdown",
   "metadata": {},
   "source": [
    "## 15. 末尾のN行を出力\n"
   ]
  },
  {
   "cell_type": "code",
   "execution_count": 9,
   "metadata": {
    "collapsed": false
   },
   "outputs": [
    {
     "name": "stdout",
     "output_type": "stream",
     "text": [
      "愛媛県\t宇和島\t40.2\t1927-07-22\n",
      "山形県\t酒田\t40.1\t1978-08-03\n",
      "岐阜県\t美濃\t40\t2007-08-16\n",
      "群馬県\t前橋\t40\t2001-07-24\n",
      "千葉県\t茂原\t39.9\t2013-08-11\n",
      "埼玉県\t鳩山\t39.9\t1997-07-05\n",
      "大阪府\t豊中\t39.9\t1994-08-08\n",
      "山梨県\t大月\t39.9\t1990-07-19\n",
      "山形県\t鶴岡\t39.9\t1978-08-03\n",
      "愛知県\t名古屋\t39.9\t1942-08-02\n",
      "\n",
      "validate result by shell commands\n",
      "\n",
      "愛媛県\t宇和島\t40.2\t1927-07-22\n",
      "山形県\t酒田\t40.1\t1978-08-03\n",
      "岐阜県\t美濃\t40\t2007-08-16\n",
      "群馬県\t前橋\t40\t2001-07-24\n",
      "千葉県\t茂原\t39.9\t2013-08-11\n",
      "埼玉県\t鳩山\t39.9\t1997-07-05\n",
      "大阪府\t豊中\t39.9\t1994-08-08\n",
      "山梨県\t大月\t39.9\t1990-07-19\n",
      "山形県\t鶴岡\t39.9\t1978-08-03\n",
      "愛知県\t名古屋\t39.9\t1942-08-02\n"
     ]
    }
   ],
   "source": [
    "n = 10\n",
    "\n",
    "def tail(n):\n",
    "    with open('hightemp.txt', 'r') as f:\n",
    "        lines = f.readlines()[-n:]\n",
    "        res = '\\n'.join([line.rstrip() for line in lines])\n",
    "    \n",
    "    return res\n",
    "\n",
    "print(tail(n))\n",
    "\n",
    "# validate result by shell commands.\n",
    "!echo ''\n",
    "!echo 'validate result by shell commands'\n",
    "!echo ''\n",
    "!tail -10 hightemp.txt"
   ]
  },
  {
   "cell_type": "markdown",
   "metadata": {},
   "source": [
    "## 16. ファイルをN分割する"
   ]
  },
  {
   "cell_type": "code",
   "execution_count": 13,
   "metadata": {
    "collapsed": false
   },
   "outputs": [
    {
     "name": "stdout",
     "output_type": "stream",
     "text": [
      "高知県\t江川崎\t41\t2013-08-12\n",
      "埼玉県\t熊谷\t40.9\t2007-08-16\n",
      "岐阜県\t多治見\t40.9\t2007-08-16\n",
      "山形県\t山形\t40.8\t1933-07-25\n",
      "山梨県\t甲府\t40.7\t2013-08-10\n",
      "和歌山県\tかつらぎ\t40.6\t1994-08-08\n",
      "静岡県\t天竜\t40.6\t1994-08-04\n",
      "\n",
      "山梨県\t勝沼\t40.5\t2013-08-10\n",
      "埼玉県\t越谷\t40.4\t2007-08-16\n",
      "群馬県\t館林\t40.3\t2007-08-16\n",
      "群馬県\t上里見\t40.3\t1998-07-04\n",
      "愛知県\t愛西\t40.3\t1994-08-05\n",
      "千葉県\t牛久\t40.2\t2004-07-20\n",
      "静岡県\t佐久間\t40.2\t2001-07-24\n",
      "\n",
      "愛媛県\t宇和島\t40.2\t1927-07-22\n",
      "山形県\t酒田\t40.1\t1978-08-03\n",
      "岐阜県\t美濃\t40\t2007-08-16\n",
      "群馬県\t前橋\t40\t2001-07-24\n",
      "千葉県\t茂原\t39.9\t2013-08-11\n",
      "埼玉県\t鳩山\t39.9\t1997-07-05\n",
      "大阪府\t豊中\t39.9\t1994-08-08\n",
      "\n",
      "山梨県\t大月\t39.9\t1990-07-19\n",
      "山形県\t鶴岡\t39.9\t1978-08-03\n",
      "愛知県\t名古屋\t39.9\t1942-08-02\n",
      "\n",
      "None\n",
      "\n",
      "validate result by shell commands\n",
      "\n"
     ]
    }
   ],
   "source": [
    "n = 7\n",
    "\n",
    "def n_split(n):\n",
    "    with open('hightemp.txt', 'r') as f:\n",
    "        lines = f.readlines()\n",
    "        num_rows = len(lines)\n",
    "\n",
    "        split_num = num_rows // n\n",
    "        residual = num_rows % n\n",
    "        \n",
    "        for i in range(0, split_num):\n",
    "            res = '\\n'.join([line.rstrip() for line in lines[i*n:n*(i+1)]]) + '\\n'\n",
    "            print(res)\n",
    "    \n",
    "        if residual:\n",
    "            res = '\\n'.join([line.rstrip() for line in lines[n*split_num:]]) + '\\n'\n",
    "            print(res)\n",
    "\n",
    "print(n_split(n))\n",
    "            \n",
    "# validate result by shell commands.\n",
    "!echo ''\n",
    "!echo 'validate result by shell commands'\n",
    "!echo ''\n",
    "!split -l 7 hightemp.txt test"
   ]
  },
  {
   "cell_type": "markdown",
   "metadata": {},
   "source": [
    "## 17. １列目の文字列の異なり"
   ]
  },
  {
   "cell_type": "code",
   "execution_count": 14,
   "metadata": {
    "collapsed": false
   },
   "outputs": [
    {
     "name": "stdout",
     "output_type": "stream",
     "text": [
      "{'愛媛県', '大阪府', '山梨県', '岐阜県', '千葉県', '和歌山県', '山形県', '埼玉県', '静岡県', '愛知県', '高知県', '群馬県'}\n",
      "\n",
      "validate result by shell commands\n",
      "\n",
      "千葉県\n",
      "埼玉県\n",
      "大阪府\n",
      "山形県\n",
      "山梨県\n",
      "岐阜県\n",
      "愛媛県\n",
      "愛知県\n",
      "群馬県\n",
      "静岡県\n",
      "高知県\n",
      "和歌山県\n"
     ]
    }
   ],
   "source": [
    "prefectures = set()\n",
    "\n",
    "with open('hightemp.txt', 'r') as f:\n",
    "    lines = f.readlines()\n",
    "    prefectures = set(line.split()[0] for line in lines)\n",
    "    \n",
    "print(prefectures)\n",
    "\n",
    "\n",
    "# validate result by shell commands.\n",
    "!echo ''\n",
    "!echo 'validate result by shell commands'\n",
    "!echo ''\n",
    "!cut -f 1 hightemp.txt | sort | uniq"
   ]
  },
  {
   "cell_type": "markdown",
   "metadata": {},
   "source": [
    "## 18. 各行を3コラム目の数値の降順にソート"
   ]
  },
  {
   "cell_type": "code",
   "execution_count": 15,
   "metadata": {
    "collapsed": false
   },
   "outputs": [
    {
     "name": "stdout",
     "output_type": "stream",
     "text": [
      "高知県\t江川崎\t41\t2013-08-12\n",
      "埼玉県\t熊谷\t40.9\t2007-08-16\n",
      "岐阜県\t多治見\t40.9\t2007-08-16\n",
      "山形県\t山形\t40.8\t1933-07-25\n",
      "山梨県\t甲府\t40.7\t2013-08-10\n",
      "和歌山県\tかつらぎ\t40.6\t1994-08-08\n",
      "静岡県\t天竜\t40.6\t1994-08-04\n",
      "山梨県\t勝沼\t40.5\t2013-08-10\n",
      "埼玉県\t越谷\t40.4\t2007-08-16\n",
      "群馬県\t館林\t40.3\t2007-08-16\n",
      "群馬県\t上里見\t40.3\t1998-07-04\n",
      "愛知県\t愛西\t40.3\t1994-08-05\n",
      "千葉県\t牛久\t40.2\t2004-07-20\n",
      "静岡県\t佐久間\t40.2\t2001-07-24\n",
      "愛媛県\t宇和島\t40.2\t1927-07-22\n",
      "山形県\t酒田\t40.1\t1978-08-03\n",
      "岐阜県\t美濃\t40\t2007-08-16\n",
      "群馬県\t前橋\t40\t2001-07-24\n",
      "千葉県\t茂原\t39.9\t2013-08-11\n",
      "埼玉県\t鳩山\t39.9\t1997-07-05\n",
      "大阪府\t豊中\t39.9\t1994-08-08\n",
      "山梨県\t大月\t39.9\t1990-07-19\n",
      "山形県\t鶴岡\t39.9\t1978-08-03\n",
      "愛知県\t名古屋\t39.9\t1942-08-02\n",
      "\n",
      "\n",
      "validate result by shell commands\n",
      "\n",
      "高知県\t江川崎\t41\t2013-08-12\n",
      "岐阜県\t多治見\t40.9\t2007-08-16\n",
      "埼玉県\t熊谷\t40.9\t2007-08-16\n",
      "山形県\t山形\t40.8\t1933-07-25\n",
      "山梨県\t甲府\t40.7\t2013-08-10\n",
      "和歌山県\tかつらぎ\t40.6\t1994-08-08\n",
      "静岡県\t天竜\t40.6\t1994-08-04\n",
      "山梨県\t勝沼\t40.5\t2013-08-10\n",
      "埼玉県\t越谷\t40.4\t2007-08-16\n",
      "群馬県\t館林\t40.3\t2007-08-16\n",
      "群馬県\t上里見\t40.3\t1998-07-04\n",
      "愛知県\t愛西\t40.3\t1994-08-05\n",
      "千葉県\t牛久\t40.2\t2004-07-20\n",
      "静岡県\t佐久間\t40.2\t2001-07-24\n",
      "愛媛県\t宇和島\t40.2\t1927-07-22\n",
      "山形県\t酒田\t40.1\t1978-08-03\n",
      "岐阜県\t美濃\t40\t2007-08-16\n",
      "群馬県\t前橋\t40\t2001-07-24\n",
      "千葉県\t茂原\t39.9\t2013-08-11\n",
      "埼玉県\t鳩山\t39.9\t1997-07-05\n",
      "大阪府\t豊中\t39.9\t1994-08-08\n",
      "山梨県\t大月\t39.9\t1990-07-19\n",
      "山形県\t鶴岡\t39.9\t1978-08-03\n",
      "愛知県\t名古屋\t39.9\t1942-08-02\n"
     ]
    }
   ],
   "source": [
    "with open('hightemp.txt', 'r') as f:\n",
    "    lines = f.readlines()   \n",
    "    print(''.join([line for line in sorted(lines, key=lambda x: x.split()[2], reverse=True)]))\n",
    "\n",
    "# validate result by shell commands.\n",
    "!echo ''\n",
    "!echo 'validate result by shell commands'\n",
    "!echo ''\n",
    "!cat hightemp.txt | sort -r -k 3"
   ]
  },
  {
   "cell_type": "markdown",
   "metadata": {},
   "source": [
    "## 19. 各行の1コラム目の文字列の出現頻度を求め，出現頻度の高い順に並べる"
   ]
  },
  {
   "cell_type": "code",
   "execution_count": 16,
   "metadata": {
    "collapsed": false
   },
   "outputs": [
    {
     "name": "stdout",
     "output_type": "stream",
     "text": [
      "3 山梨県\n",
      "3 山形県\n",
      "3 埼玉県\n",
      "3 群馬県\n",
      "2 岐阜県\n",
      "2 千葉県\n",
      "2 静岡県\n",
      "2 愛知県\n",
      "1 愛媛県\n",
      "1 大阪府\n",
      "1 和歌山県\n",
      "1 高知県\n",
      "\n",
      "validate result by shell commands\n",
      "\n",
      "   3 群馬県\n",
      "   3 山梨県\n",
      "   3 山形県\n",
      "   3 埼玉県\n",
      "   2 静岡県\n",
      "   2 愛知県\n",
      "   2 岐阜県\n",
      "   2 千葉県\n",
      "   1 和歌山県\n",
      "   1 高知県\n",
      "   1 愛媛県\n",
      "   1 大阪府\n"
     ]
    }
   ],
   "source": [
    "with open('hightemp.txt', 'r') as f:\n",
    "    lines = f.readlines()\n",
    "    prefectures = [line.split()[0] for line in lines]\n",
    "    pre_set = {pre:0 for pre in set(prefectures)}\n",
    "    \n",
    "    for pre in prefectures:\n",
    "        if pre in pre_set:\n",
    "            pre_set[pre] += 1\n",
    "\n",
    "    for k, v in sorted(pre_set.items(), key=lambda x: x[1], reverse=True):\n",
    "        print(v, k)\n",
    "    #print(''.join([line for line in sorted(lines)]))\n",
    "    \n",
    "    \n",
    "# validate result by shell commands.\n",
    "!echo ''\n",
    "!echo 'validate result by shell commands'\n",
    "!echo ''\n",
    "!cut -f 1 hightemp.txt | sort | uniq -c | sort -r"
   ]
  }
 ],
 "metadata": {
  "kernelspec": {
   "display_name": "Python [Root]",
   "language": "python",
   "name": "Python [Root]"
  },
  "language_info": {
   "codemirror_mode": {
    "name": "ipython",
    "version": 3
   },
   "file_extension": ".py",
   "mimetype": "text/x-python",
   "name": "python",
   "nbconvert_exporter": "python",
   "pygments_lexer": "ipython3",
   "version": "3.5.1"
  }
 },
 "nbformat": 4,
 "nbformat_minor": 0
}
