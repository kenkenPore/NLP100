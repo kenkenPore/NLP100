{
 "cells": [
  {
   "cell_type": "markdown",
   "metadata": {},
   "source": [
    "# 第1章 準備運動"
   ]
  },
  {
   "cell_type": "markdown",
   "metadata": {},
   "source": [
    "## 00. 文字列の逆順"
   ]
  },
  {
   "cell_type": "code",
   "execution_count": 3,
   "metadata": {
    "collapsed": false
   },
   "outputs": [
    {
     "data": {
      "text/plain": [
       "'desserts'"
      ]
     },
     "execution_count": 3,
     "metadata": {},
     "output_type": "execute_result"
    }
   ],
   "source": [
    "text = \"stressed\"\n",
    "text[::-1]"
   ]
  },
  {
   "cell_type": "markdown",
   "metadata": {},
   "source": [
    "## 01. 「パタトクカシーー」"
   ]
  },
  {
   "cell_type": "code",
   "execution_count": 4,
   "metadata": {
    "collapsed": false
   },
   "outputs": [
    {
     "data": {
      "text/plain": [
       "'パトカー'"
      ]
     },
     "execution_count": 4,
     "metadata": {},
     "output_type": "execute_result"
    }
   ],
   "source": [
    "text =\"パタトクカシーー\"\n",
    "text[::2]"
   ]
  },
  {
   "cell_type": "markdown",
   "metadata": {},
   "source": [
    "## 02. 「パトカー」＋「タクシー」＝「パタトクカシーー」"
   ]
  },
  {
   "cell_type": "code",
   "execution_count": 5,
   "metadata": {
    "collapsed": false
   },
   "outputs": [
    {
     "name": "stdout",
     "output_type": "stream",
     "text": [
      "パタトクカシーー\n"
     ]
    }
   ],
   "source": [
    "text1 = \"パトカー\"\n",
    "text2 = \"タクシー\"\n",
    "result = ''.join([i+j for (i, j) in zip(text1, text2)])\n",
    "print(result)"
   ]
  },
  {
   "cell_type": "markdown",
   "metadata": {},
   "source": [
    "## 03. 円周率"
   ]
  },
  {
   "cell_type": "code",
   "execution_count": 6,
   "metadata": {
    "collapsed": false
   },
   "outputs": [
    {
     "name": "stdout",
     "output_type": "stream",
     "text": [
      "[3, 1, 4, 1, 6, 9, 2, 7, 5, 3, 5, 8, 9, 7, 10]\n"
     ]
    }
   ],
   "source": [
    "text = \"Now I need a drink, alcoholic of course, after the heavy lectures involving quantum mechanics.\"\n",
    "print([len(word) for word in text.split()])"
   ]
  },
  {
   "cell_type": "markdown",
   "metadata": {},
   "source": [
    "## 04. 元素記号"
   ]
  },
  {
   "cell_type": "code",
   "execution_count": 9,
   "metadata": {
    "collapsed": false
   },
   "outputs": [
    {
     "name": "stdout",
     "output_type": "stream",
     "text": [
      "{'S': 16, 'Mi': 12, 'Ca': 20, 'Be': 4, 'N': 7, 'Ne': 10, 'Ar': 18, 'H': 1, 'F': 9, 'K': 19, 'Li': 3, 'C': 6, 'O': 8, 'Si': 14, 'P': 15, 'Cl': 17, 'Na': 11, 'Al': 13, 'B': 5, 'He': 2}\n"
     ]
    }
   ],
   "source": [
    "text= \"Hi He Lied Because Boron Could Not Oxidize Fluorine. New Nations Might Also Sign Peace Security Clause. Arthur King Can.\"\n",
    "words = text.replace('.', '').split()\n",
    "data = dict([(word[0], i+1) if i in [0,4,5,6,7,8,14,15,18] else (word[:2],i+1) for (i, word) in enumerate(words)])\n",
    "print(data)"
   ]
  },
  {
   "cell_type": "markdown",
   "metadata": {},
   "source": [
    "## 05. n-gram"
   ]
  },
  {
   "cell_type": "code",
   "execution_count": 10,
   "metadata": {
    "collapsed": false
   },
   "outputs": [
    {
     "name": "stdout",
     "output_type": "stream",
     "text": [
      "[('I', 'am'), ('am', 'an'), ('an', 'NLPer')]\n",
      "[('I', ' '), (' ', 'a'), ('a', 'm'), ('m', ' '), (' ', 'a'), ('a', 'n'), ('n', ' '), (' ', 'N'), ('N', 'L'), ('L', 'P'), ('P', 'e'), ('e', 'r')]\n"
     ]
    }
   ],
   "source": [
    "def ngram(n, txt):\n",
    "    n_gram = []\n",
    "    for i in range(len(txt) - n + 1):\n",
    "        n_gram.append(tuple(txt[i:i+n])) \n",
    "    return n_gram\n",
    "        \n",
    "text= \"I am an NLPer\"\n",
    "w_n_gram= ngram(2, text.split())\n",
    "c_n_gram = ngram(2, text)\n",
    "\n",
    "print(w_n_gram)\n",
    "print(c_n_gram)"
   ]
  },
  {
   "cell_type": "markdown",
   "metadata": {},
   "source": [
    "## 06. 集合"
   ]
  },
  {
   "cell_type": "code",
   "execution_count": 11,
   "metadata": {
    "collapsed": false
   },
   "outputs": [
    {
     "name": "stdout",
     "output_type": "stream",
     "text": [
      "X: {('a', 'p'), ('a', 'd'), ('a', 'r'), ('s', 'e'), ('d', 'i'), ('r', 'a'), ('i', 's'), ('p', 'a')}\n",
      "Y: {('a', 'p'), ('p', 'h'), ('a', 'r'), ('g', 'r'), ('a', 'g'), ('r', 'a'), ('p', 'a')}\n",
      "X∪Y: {('a', 'p'), ('a', 'd'), ('p', 'h'), ('a', 'r'), ('g', 'r'), ('a', 'g'), ('s', 'e'), ('d', 'i'), ('r', 'a'), ('i', 's'), ('p', 'a')}\n",
      "X∩Y: {('a', 'p'), ('r', 'a'), ('p', 'a'), ('a', 'r')}\n",
      "x-y: {('i', 's'), ('a', 'd'), ('s', 'e'), ('d', 'i')}\n",
      "y-x: {('g', 'r'), ('a', 'g'), ('p', 'h')}\n",
      "\"se\" is included in X: True\n",
      "\"se\" is included in Y: False\n"
     ]
    }
   ],
   "source": [
    "txt1 = 'paraparaparadise'\n",
    "txt2 = 'paragraph'\n",
    "\n",
    "X = set(ngram(2, txt1))\n",
    "Y = set(ngram(2, txt2))\n",
    "\n",
    "union = X.union(Y)\n",
    "intersection = X.intersection(Y)\n",
    "differenceX = X.difference(Y)\n",
    "differenceY = Y.difference(X)\n",
    "\n",
    "print('X:', X)\n",
    "print('Y:', Y)\n",
    "print('X∪Y:', union)\n",
    "print('X∩Y:', intersection)\n",
    "print('x-y:', differenceX)\n",
    "print('y-x:', differenceY)\n",
    "\n",
    "chars = tuple('se')\n",
    "print('\"se\" is included in X:', chars in X)\n",
    "print('\"se\" is included in Y:',chars in Y)"
   ]
  },
  {
   "cell_type": "markdown",
   "metadata": {},
   "source": [
    "## 07. テンプレートによる文生成"
   ]
  },
  {
   "cell_type": "code",
   "execution_count": 12,
   "metadata": {
    "collapsed": false
   },
   "outputs": [
    {
     "name": "stdout",
     "output_type": "stream",
     "text": [
      "12時の気温は22.4\n"
     ]
    }
   ],
   "source": [
    "def temp(x, y, z):\n",
    "    return('{0}時の{1}は{2}'.format(x, y, z))\n",
    "\n",
    "print(temp(12, '気温', '22.4'))"
   ]
  },
  {
   "cell_type": "markdown",
   "metadata": {},
   "source": [
    "## 08. 暗号文"
   ]
  },
  {
   "cell_type": "code",
   "execution_count": 13,
   "metadata": {
    "collapsed": false
   },
   "outputs": [
    {
     "name": "stdout",
     "output_type": "stream",
     "text": [
      "original: I love Prof.Kikuch !\n",
      "encrypt: I olev Pilu.Krpfxs !\n",
      "decrypt: I love Prof.Kikuch !\n"
     ]
    }
   ],
   "source": [
    "def cipher(txt):\n",
    "    return ''.join([ chr(219 - ord(c)) if c.islower() else c for c in txt])\n",
    "\n",
    "txt = 'I love Prof.Kikuch !'\n",
    "\n",
    "enc = cipher(txt)\n",
    "dec = cipher(enc)\n",
    "\n",
    "print('original:', txt)\n",
    "print('encrypt:', enc)\n",
    "print('decrypt:', dec)"
   ]
  },
  {
   "cell_type": "markdown",
   "metadata": {},
   "source": [
    "## 09. Typoglycemia"
   ]
  },
  {
   "cell_type": "code",
   "execution_count": 15,
   "metadata": {
    "collapsed": false
   },
   "outputs": [
    {
     "data": {
      "text/plain": [
       "\"I cldo'unt beevile that I could acaultly urantdsned what I was rdaineg : the pnhneoemal power of the human mind .\""
      ]
     },
     "execution_count": 15,
     "metadata": {},
     "output_type": "execute_result"
    }
   ],
   "source": [
    "from random import shuffle\n",
    "\n",
    "def typoglycemia(txt):\n",
    "    words = txt.split()\n",
    "    new_words = []\n",
    "    \n",
    "    for word in words:\n",
    "        if len(word) > 5:\n",
    "            head = word[0]\n",
    "            tail = word[-1]\n",
    "            middles = list(word[1:-1])\n",
    "            shuffle(middles)\n",
    "            new_words.append(''.join([head, ''.join(middles), tail]))\n",
    "        else:\n",
    "            new_words.append(word)\n",
    "    return ' '.join(new_words)\n",
    "\n",
    "txt = \"I couldn't believe that I could actually understand what I was reading : the phenomenal power of the human mind .\"\n",
    "\n",
    "typoglycemia(txt)"
   ]
  }
 ],
 "metadata": {
  "anaconda-cloud": {},
  "kernelspec": {
   "display_name": "Python [Root]",
   "language": "python",
   "name": "Python [Root]"
  },
  "language_info": {
   "codemirror_mode": {
    "name": "ipython",
    "version": 3
   },
   "file_extension": ".py",
   "mimetype": "text/x-python",
   "name": "python",
   "nbconvert_exporter": "python",
   "pygments_lexer": "ipython3",
   "version": "3.5.1"
  }
 },
 "nbformat": 4,
 "nbformat_minor": 0
}
