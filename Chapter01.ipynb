{
 "cells": [
  {
   "cell_type": "markdown",
   "metadata": {},
   "source": [
    "# 第1章 準備運動"
   ]
  },
  {
   "cell_type": "markdown",
   "metadata": {},
   "source": [
    "## 00. 文字列の逆順\n",
    "文字列\"stressed\"の文字を逆に（末尾から先頭に向かって）並べた文字列を得よ．"
   ]
  },
  {
   "cell_type": "code",
   "execution_count": 3,
   "metadata": {
    "collapsed": false
   },
   "outputs": [
    {
     "data": {
      "text/plain": [
       "'desserts'"
      ]
     },
     "execution_count": 3,
     "metadata": {},
     "output_type": "execute_result"
    }
   ],
   "source": [
    "text = \"stressed\"\n",
    "text[::-1]"
   ]
  },
  {
   "cell_type": "markdown",
   "metadata": {},
   "source": [
    "## 01. 「パタトクカシーー」\n",
    "「パタトクカシーー」という文字列の1,3,5,7文字目を取り出して連結した文字列を得よ．"
   ]
  },
  {
   "cell_type": "code",
   "execution_count": 4,
   "metadata": {
    "collapsed": false
   },
   "outputs": [
    {
     "data": {
      "text/plain": [
       "'パトカー'"
      ]
     },
     "execution_count": 4,
     "metadata": {},
     "output_type": "execute_result"
    }
   ],
   "source": [
    "text =\"パタトクカシーー\"\n",
    "text[::2]"
   ]
  },
  {
   "cell_type": "markdown",
   "metadata": {},
   "source": [
    "## 02. 「パトカー」＋「タクシー」＝「パタトクカシーー」\n",
    "「パトカー」＋「タクシー」の文字を先頭から交互に連結して文字列「パタトクカシーー」を得よ．"
   ]
  },
  {
   "cell_type": "code",
   "execution_count": 5,
   "metadata": {
    "collapsed": false
   },
   "outputs": [
    {
     "name": "stdout",
     "output_type": "stream",
     "text": [
      "パタトクカシーー\n"
     ]
    }
   ],
   "source": [
    "text1 = \"パトカー\"\n",
    "text2 = \"タクシー\"\n",
    "result = ''.join([i+j for (i, j) in zip(text1, text2)])\n",
    "print(result)"
   ]
  },
  {
   "cell_type": "markdown",
   "metadata": {},
   "source": [
    "## 03. 円周率\n",
    "\"Now I need a drink, alcoholic of course, after the heavy lectures involving quantum mechanics.\"という文を単語に分解し，各単語の（アルファベットの）文字数を先頭から出現順に並べたリストを作成せよ．"
   ]
  },
  {
   "cell_type": "code",
   "execution_count": 6,
   "metadata": {
    "collapsed": false
   },
   "outputs": [
    {
     "name": "stdout",
     "output_type": "stream",
     "text": [
      "[3, 1, 4, 1, 6, 9, 2, 7, 5, 3, 5, 8, 9, 7, 10]\n"
     ]
    }
   ],
   "source": [
    "text = \"Now I need a drink, alcoholic of course, after the heavy lectures involving quantum mechanics.\"\n",
    "print([len(word) for word in text.split()])"
   ]
  },
  {
   "cell_type": "markdown",
   "metadata": {},
   "source": [
    "## 04. 元素記号\n",
    "\"Hi He Lied Because Boron Could Not Oxidize Fluorine. New Nations Might Also Sign Peace Security Clause. Arthur King Can.\"という文を単語に分解し，1, 5, 6, 7, 8, 9, 15, 16, 19番目の単語は先頭の1文字，それ以外の単語は先頭に2文字を取り出し，取り出した文字列から単語の位置（先頭から何番目の単語か）への連想配列（辞書型もしくはマップ型）を作成せよ．"
   ]
  },
  {
   "cell_type": "code",
   "execution_count": 1,
   "metadata": {
    "collapsed": false
   },
   "outputs": [
    {
     "name": "stdout",
     "output_type": "stream",
     "text": [
      "{'Si': 14, 'Ne': 10, 'C': 6, 'P': 15, 'Ar': 18, 'Ca': 20, 'Al': 13, 'N': 7, 'Cl': 17, 'Be': 4, 'Na': 11, 'O': 8, 'H': 1, 'He': 2, 'Mi': 12, 'S': 16, 'Li': 3, 'B': 5, 'K': 19, 'F': 9}\n"
     ]
    }
   ],
   "source": [
    "text= \"Hi He Lied Because Boron Could Not Oxidize Fluorine. New Nations Might Also Sign Peace Security Clause. Arthur King Can.\"\n",
    "words = text.replace('.', '').split()\n",
    "data = dict([(word[0], i+1) if i in [0,4,5,6,7,8,14,15,18] else (word[:2],i+1) for (i, word) in enumerate(words)])\n",
    "print(data)"
   ]
  },
  {
   "cell_type": "markdown",
   "metadata": {},
   "source": [
    "## 05. n-gram\n",
    "与えられたシーケンス（文字列やリストなど）からn-gramを作る関数を作成せよ．この関数を用い，\"I am an NLPer\"という文から単語bi-gram，文字bi-gramを得よ．"
   ]
  },
  {
   "cell_type": "code",
   "execution_count": 10,
   "metadata": {
    "collapsed": false
   },
   "outputs": [
    {
     "name": "stdout",
     "output_type": "stream",
     "text": [
      "[('I', 'am'), ('am', 'an'), ('an', 'NLPer')]\n",
      "[('I', ' '), (' ', 'a'), ('a', 'm'), ('m', ' '), (' ', 'a'), ('a', 'n'), ('n', ' '), (' ', 'N'), ('N', 'L'), ('L', 'P'), ('P', 'e'), ('e', 'r')]\n"
     ]
    }
   ],
   "source": [
    "def ngram(n, txt):\n",
    "    n_gram = []\n",
    "    for i in range(len(txt) - n + 1):\n",
    "        n_gram.append(tuple(txt[i:i+n])) \n",
    "    return n_gram\n",
    "        \n",
    "text= \"I am an NLPer\"\n",
    "w_n_gram= ngram(2, text.split())\n",
    "c_n_gram = ngram(2, text)\n",
    "\n",
    "print(w_n_gram)\n",
    "print(c_n_gram)"
   ]
  },
  {
   "cell_type": "markdown",
   "metadata": {},
   "source": [
    "## 06. 集合\n",
    "\"paraparaparadise\"と\"paragraph\"に含まれる文字bi-gramの集合を，それぞれ, XとYとして求め，XとYの和集合，積集合，差集合を求めよ．さらに，'se'というbi-gramがXおよびYに含まれるかどうかを調べよ．"
   ]
  },
  {
   "cell_type": "code",
   "execution_count": 11,
   "metadata": {
    "collapsed": false
   },
   "outputs": [
    {
     "name": "stdout",
     "output_type": "stream",
     "text": [
      "X: {('a', 'p'), ('a', 'd'), ('a', 'r'), ('s', 'e'), ('d', 'i'), ('r', 'a'), ('i', 's'), ('p', 'a')}\n",
      "Y: {('a', 'p'), ('p', 'h'), ('a', 'r'), ('g', 'r'), ('a', 'g'), ('r', 'a'), ('p', 'a')}\n",
      "X∪Y: {('a', 'p'), ('a', 'd'), ('p', 'h'), ('a', 'r'), ('g', 'r'), ('a', 'g'), ('s', 'e'), ('d', 'i'), ('r', 'a'), ('i', 's'), ('p', 'a')}\n",
      "X∩Y: {('a', 'p'), ('r', 'a'), ('p', 'a'), ('a', 'r')}\n",
      "x-y: {('i', 's'), ('a', 'd'), ('s', 'e'), ('d', 'i')}\n",
      "y-x: {('g', 'r'), ('a', 'g'), ('p', 'h')}\n",
      "\"se\" is included in X: True\n",
      "\"se\" is included in Y: False\n"
     ]
    }
   ],
   "source": [
    "txt1 = 'paraparaparadise'\n",
    "txt2 = 'paragraph'\n",
    "\n",
    "X = set(ngram(2, txt1))\n",
    "Y = set(ngram(2, txt2))\n",
    "\n",
    "union = X.union(Y)\n",
    "intersection = X.intersection(Y)\n",
    "differenceX = X.difference(Y)\n",
    "differenceY = Y.difference(X)\n",
    "\n",
    "print('X:', X)\n",
    "print('Y:', Y)\n",
    "print('X∪Y:', union)\n",
    "print('X∩Y:', intersection)\n",
    "print('x-y:', differenceX)\n",
    "print('y-x:', differenceY)\n",
    "\n",
    "chars = tuple('se')\n",
    "print('\"se\" is included in X:', chars in X)\n",
    "print('\"se\" is included in Y:',chars in Y)"
   ]
  },
  {
   "cell_type": "markdown",
   "metadata": {},
   "source": [
    "## 07. テンプレートによる文生成\n",
    "引数x, y, zを受け取り「x時のyはz」という文字列を返す関数を実装せよ．さらに，x=12, y=\"気温\", z=22.4として，実行結果を確認せよ．"
   ]
  },
  {
   "cell_type": "code",
   "execution_count": 12,
   "metadata": {
    "collapsed": false
   },
   "outputs": [
    {
     "name": "stdout",
     "output_type": "stream",
     "text": [
      "12時の気温は22.4\n"
     ]
    }
   ],
   "source": [
    "def temp(x, y, z):\n",
    "    return('{0}時の{1}は{2}'.format(x, y, z))\n",
    "\n",
    "print(temp(12, '気温', '22.4'))"
   ]
  },
  {
   "cell_type": "markdown",
   "metadata": {},
   "source": [
    "## 08. 暗号文\n",
    "与えられた文字列の各文字を，以下の仕様で変換する関数cipherを実装せよ．\n",
    "\n",
    "+ 英小文字ならば(219 - 文字コード)の文字に置換\n",
    "+ その他の文字はそのまま出力\n",
    "\n",
    "この関数を用い，英語のメッセージを暗号化・復号化せよ．"
   ]
  },
  {
   "cell_type": "code",
   "execution_count": 13,
   "metadata": {
    "collapsed": false
   },
   "outputs": [
    {
     "name": "stdout",
     "output_type": "stream",
     "text": [
      "original: I love Prof.Kikuch !\n",
      "encrypt: I olev Pilu.Krpfxs !\n",
      "decrypt: I love Prof.Kikuch !\n"
     ]
    }
   ],
   "source": [
    "def cipher(txt):\n",
    "    return ''.join([ chr(219 - ord(c)) if c.islower() else c for c in txt])\n",
    "\n",
    "txt = 'I love Prof.Kikuch !'\n",
    "\n",
    "enc = cipher(txt)\n",
    "dec = cipher(enc)\n",
    "\n",
    "print('original:', txt)\n",
    "print('encrypt:', enc)\n",
    "print('decrypt:', dec)"
   ]
  },
  {
   "cell_type": "markdown",
   "metadata": {},
   "source": [
    "## 09. Typoglycemia\n",
    "スペースで区切られた単語列に対して，各単語の先頭と末尾の文字は残し，それ以外の文字の順序をランダムに並び替えるプログラムを作成せよ．ただし，長さが４以下の単語は並び替えないこととする．適当な英語の文（例えば\"I couldn't believe that I could actually understand what I was reading : the phenomenal power of the human mind .\"）を与え，その実行結果を確認せよ．"
   ]
  },
  {
   "cell_type": "code",
   "execution_count": 15,
   "metadata": {
    "collapsed": false
   },
   "outputs": [
    {
     "data": {
      "text/plain": [
       "\"I cldo'unt beevile that I could acaultly urantdsned what I was rdaineg : the pnhneoemal power of the human mind .\""
      ]
     },
     "execution_count": 15,
     "metadata": {},
     "output_type": "execute_result"
    }
   ],
   "source": [
    "from random import shuffle\n",
    "\n",
    "def typoglycemia(txt):\n",
    "    words = txt.split()\n",
    "    new_words = []\n",
    "    \n",
    "    for word in words:\n",
    "        if len(word) > 5:\n",
    "            head = word[0]\n",
    "            tail = word[-1]\n",
    "            middles = list(word[1:-1])\n",
    "            shuffle(middles)\n",
    "            new_words.append(''.join([head, ''.join(middles), tail]))\n",
    "        else:\n",
    "            new_words.append(word)\n",
    "    return ' '.join(new_words)\n",
    "\n",
    "txt = \"I couldn't believe that I could actually understand what I was reading : the phenomenal power of the human mind .\"\n",
    "\n",
    "typoglycemia(txt)"
   ]
  }
 ],
 "metadata": {
  "anaconda-cloud": {},
  "kernelspec": {
   "display_name": "Python [Root]",
   "language": "python",
   "name": "Python [Root]"
  },
  "language_info": {
   "codemirror_mode": {
    "name": "ipython",
    "version": 3
   },
   "file_extension": ".py",
   "mimetype": "text/x-python",
   "name": "python",
   "nbconvert_exporter": "python",
   "pygments_lexer": "ipython3",
   "version": "3.5.1"
  }
 },
 "nbformat": 4,
 "nbformat_minor": 0
}
